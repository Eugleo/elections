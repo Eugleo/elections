{
 "cells": [
  {
   "cell_type": "markdown",
   "metadata": {},
   "source": [
    "# Mandáty 2006–2017\n",
    "\n",
    "Zde stáhneme a zpracujeme data získaných mandátů podle různých krajů."
   ]
  },
  {
   "cell_type": "code",
   "execution_count": 50,
   "metadata": {},
   "outputs": [],
   "source": [
    "import csv\n",
    "import re\n",
    "import pandas as pd\n",
    "\n",
    "from requests_html import HTMLSession"
   ]
  },
  {
   "cell_type": "markdown",
   "metadata": {},
   "source": [
    "Zde hledáme a zpracujeme data mandátů z jednoho daného roku."
   ]
  },
  {
   "cell_type": "code",
   "execution_count": 62,
   "metadata": {},
   "outputs": [],
   "source": [
    "def scrape_mandates(url):\n",
    "    session = HTMLSession()\n",
    "    html = session.get(url).html\n",
    "    base_url = get_base_url(url)\n",
    "    s1 = \"Rozdělení mandátů stranám\"\n",
    "    link1 = html.find('a', containing=s1, first=True).attrs['href']\n",
    "    html = session.get(base_url + link1).html\n",
    "    xp = \"//a[contains(., 'Přehled zisků mandátů') and not(contains(., '%'))]\"\n",
    "    s2 = \"Přehled zisků mandátů\"\n",
    "    link2 = html.xpath(xp, first=True).attrs['href']\n",
    "    return scrape_table(base_url + link2)\n",
    "\n",
    "\n",
    "REGIONS = [\n",
    "    \"Hlavní město Praha\", \"Středočeský kraj\", \"Jihočeský kraj\",\n",
    "    \"Plzeňský kraj\", \"Karlovarský kraj\", \"Ústecký kraj\", \"Liberecký kraj\",\n",
    "    \"Královehradecký kraj\", \"Pardubický kraj\", \"Vysočina\", \"Jihomoravský kraj\",\n",
    "    \"Olomoucký kraj\", \"Zlínksý kraj\", \"Moravskoslezský kraj\"\n",
    "]\n",
    "\n",
    "\n",
    "def scrape_table(url):\n",
    "    session = HTMLSession()\n",
    "    html = session.get(url).html\n",
    "\n",
    "    table = html.find('table', first=True)\n",
    "    rows = table.find('tr')\n",
    "    return dict(scrape_row(r) for r in rows[1:-1])\n",
    "\n",
    "\n",
    "def scrape_row(row):\n",
    "    tds = row.find('td')\n",
    "    header = row.find('th', first=True).text\n",
    "    party = re.search(re.compile(r'\\d+ (\\w+)'), header).group(1)\n",
    "    result = {\n",
    "        region: safe_parse_int(tds[1 + i].text)\n",
    "        for i, region in enumerate(REGIONS)\n",
    "    }\n",
    "    return (party, result)\n",
    "\n",
    "\n",
    "def safe_parse_int(s):\n",
    "    string = ''.join(c for c in s if c.isdigit())\n",
    "    return int(string) if string.isdigit() else 0\n",
    "\n",
    "\n",
    "def get_base_url(url):\n",
    "    return re.match(re.compile(r'^.+\\/'), url).group()"
   ]
  },
  {
   "cell_type": "markdown",
   "metadata": {},
   "source": [
    "Zde kombinujeme data mandátů za několik let a ukládáme do souboru."
   ]
  },
  {
   "cell_type": "code",
   "execution_count": 65,
   "metadata": {},
   "outputs": [],
   "source": [
    "import pprint\n",
    "\n",
    "def write_mandates(urls, filename):\n",
    "    mds = {get_year(url): scrape_mandates(url) for url in urls}\n",
    "    flat = flattened(mds)\n",
    "                \n",
    "    with open(filename, 'w') as f:\n",
    "        writer = csv.DictWriter(f, all_columns(flat))\n",
    "        writer.writeheader()\n",
    "        writer.writerows(flat)\n",
    "        \n",
    "        \n",
    "def flattened(mandates_yrs):\n",
    "    flat = []\n",
    "    for yr, md in mandates_yrs.items():\n",
    "        for reg in REGIONS:\n",
    "            result = {'year': yr, 'region': reg}\n",
    "            for party, res in md.items():\n",
    "                result[party] = res[reg]\n",
    "            flat.append(result)\n",
    "    return flat\n",
    "    \n",
    "    \n",
    "def get_year(url) -> int:\n",
    "    return int(re.search(re.compile(r'ps(\\d+).*/'), url).group(1))\n",
    "\n",
    "\n",
    "def all_columns(dicts):\n",
    "    base = ['year', 'region']\n",
    "    columns = set()\n",
    "    for d in dicts:\n",
    "        for k in d.keys():\n",
    "            if k not in base:\n",
    "                columns.add(k)\n",
    "    return base + list(columns)"
   ]
  },
  {
   "cell_type": "code",
   "execution_count": 66,
   "metadata": {},
   "outputs": [],
   "source": [
    "write_mandates([\"https://volby.cz/pls/ps2017nss/ps?xjazyk=CZ\"], \"mandaty.csv\")"
   ]
  },
  {
   "cell_type": "code",
   "execution_count": null,
   "metadata": {},
   "outputs": [],
   "source": []
  }
 ],
 "metadata": {
  "kernelspec": {
   "display_name": "Python 3",
   "language": "python",
   "name": "python3"
  },
  "language_info": {
   "codemirror_mode": {
    "name": "ipython",
    "version": 3
   },
   "file_extension": ".py",
   "mimetype": "text/x-python",
   "name": "python",
   "nbconvert_exporter": "python",
   "pygments_lexer": "ipython3",
   "version": "3.6.4"
  }
 },
 "nbformat": 4,
 "nbformat_minor": 2
}
