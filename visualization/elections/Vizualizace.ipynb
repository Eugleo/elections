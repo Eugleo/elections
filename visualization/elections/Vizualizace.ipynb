{
 "cells": [
  {
   "cell_type": "markdown",
   "metadata": {},
   "source": [
    "# Vizualizace\n",
    "\n",
    "Uděláme několik grafů výsledků voleb do Poslanecké sněmovny roků 1996–2017."
   ]
  },
  {
   "cell_type": "code",
   "execution_count": 2,
   "metadata": {},
   "outputs": [],
   "source": [
    "import math\n",
    "import operator\n",
    "import pandas as pd\n",
    "\n",
    "import plotly.offline as offline\n",
    "import plotly.graph_objs as go\n",
    "\n",
    "from plotly import tools"
   ]
  },
  {
   "cell_type": "markdown",
   "metadata": {},
   "source": [
    "Načtení csv souborů."
   ]
  },
  {
   "cell_type": "code",
   "execution_count": 3,
   "metadata": {},
   "outputs": [],
   "source": [
    "indices = ['year', 'region', 'county', 'town']"
   ]
  },
  {
   "cell_type": "code",
   "execution_count": 4,
   "metadata": {},
   "outputs": [],
   "source": [
    "df = pd.read_csv('combined.csv', index_col=indices)\n",
    "votes = pd.read_csv('votes.csv', index_col=indices)"
   ]
  },
  {
   "cell_type": "markdown",
   "metadata": {},
   "source": [
    "# Souhrnné výsledky voleb"
   ]
  },
  {
   "cell_type": "code",
   "execution_count": 5,
   "metadata": {},
   "outputs": [],
   "source": [
    "party_yr_sums = df.groupby('year').sum()\n",
    "vote_yr_sums = votes.groupby('year').sum()"
   ]
  },
  {
   "cell_type": "markdown",
   "metadata": {},
   "source": [
    "Funkce k získání poměru získaných hlasů strany k celkovému počtu hlasů."
   ]
  },
  {
   "cell_type": "code",
   "execution_count": 6,
   "metadata": {},
   "outputs": [],
   "source": [
    "def get_ratio(row):\n",
    "    votes = vote_yr_sums.loc[row.name]['votes_ok']\n",
    "    \n",
    "    def ratio(x):\n",
    "        return round(x / votes * 100)\n",
    "    return row.apply(ratio)"
   ]
  },
  {
   "cell_type": "markdown",
   "metadata": {},
   "source": [
    "Získání souhrnných výsledků voleb z let 1996–2017 ve formě procent."
   ]
  },
  {
   "cell_type": "code",
   "execution_count": 7,
   "metadata": {
    "code_folding": []
   },
   "outputs": [],
   "source": [
    "ratios = party_yr_sums.apply(get_ratio, axis=1)\n",
    "\n",
    "todrop = [\n",
    "    c for c in ratios.columns\n",
    "    if all([x < 5 for x in ratios[c].values if not pd.isna(x)])\n",
    "]\n",
    "\n",
    "mask = ratios.apply(lambda x: x.name not in todrop)\n",
    "ratios.drop(todrop, axis=1, inplace=True)"
   ]
  },
  {
   "cell_type": "markdown",
   "metadata": {},
   "source": [
    "Vykreslení základního grafu (na linku pak proběhnou úpravy detailů)."
   ]
  },
  {
   "cell_type": "code",
   "execution_count": 8,
   "metadata": {
    "code_folding": []
   },
   "outputs": [],
   "source": [
    "def plot(parties):\n",
    "    data = []\n",
    "    for c in parties.columns:\n",
    "        data.append(\n",
    "            go.Scatter(\n",
    "                x=parties[c].index,\n",
    "                y=parties[c].values,\n",
    "                name=parties[c].name,\n",
    "                mode='lines+markers',\n",
    "            ))\n",
    "\n",
    "    layout = go.Layout(\n",
    "        xaxis=dict(\n",
    "            autotick=False,\n",
    "            ticks=\"\",\n",
    "            tickvals=parties.index,\n",
    "            ticktext=[str(y) for y in parties.index]),\n",
    "        yaxis=dict(autotick=True, ticks='outside'))\n",
    "\n",
    "    return go.Figure(data=data, layout=layout)\n",
    "\n",
    "\n",
    "# py.iplot(plot(ratios))"
   ]
  },
  {
   "cell_type": "markdown",
   "metadata": {},
   "source": [
    "# Výsledky voleb podle krajů"
   ]
  },
  {
   "cell_type": "code",
   "execution_count": 9,
   "metadata": {},
   "outputs": [],
   "source": [
    "party_reg_sums = df.groupby(['region', 'year']).sum()\n",
    "vote_reg_sums = votes.groupby(['region', 'year']).sum()"
   ]
  },
  {
   "cell_type": "code",
   "execution_count": 10,
   "metadata": {},
   "outputs": [],
   "source": [
    "def ratio(n, votes):\n",
    "    return round(n / votes * 100, 2) if not pd.isna(n) else 0\n",
    "\n",
    "\n",
    "def get_ratio_reg(row):\n",
    "    votes = row['votes_ok']\n",
    "    del row['votes_ok']\n",
    "    del row['voters']\n",
    "    del row['votes_all']\n",
    "    return row.apply(lambda x: ratio(x, votes))\n",
    "\n",
    "\n",
    "res_and_votes = party_reg_sums.join(vote_reg_sums, how='inner')\n",
    "\n",
    "ratios = res_and_votes.apply(get_ratio_reg, axis=1)"
   ]
  },
  {
   "cell_type": "markdown",
   "metadata": {},
   "source": [
    "Funkce k získání *n* nejlépe umístěných stran z daného kraje/v daném roce."
   ]
  },
  {
   "cell_type": "code",
   "execution_count": 11,
   "metadata": {},
   "outputs": [],
   "source": [
    "def n_best_all_regs_abs(year, n=3):\n",
    "    result = {}\n",
    "    for reg in res_and_votes.index.get_level_values('region').unique():\n",
    "        best = n_best_reg_abs(n, region=reg)\n",
    "        if year in best.index:\n",
    "            result[reg] = {n: r for n, r in best.loc[year].values}\n",
    "    return result\n",
    "\n",
    "\n",
    "def n_best_reg_abs(n, region='Hlavní město Praha'):\n",
    "    per_yr = res_and_votes.loc[region]\n",
    "    del per_yr['voters']\n",
    "    del per_yr['votes_all']\n",
    "    del per_yr['votes_ok']\n",
    "    return per_yr.apply(lambda r: n_best_yr(n, r), axis=1)\n",
    "\n",
    "\n",
    "def n_best_all_regs(year, n=3):\n",
    "    result = {}\n",
    "    for reg in ratios.index.get_level_values('region').unique():\n",
    "        best = n_best_reg(n, region=reg)\n",
    "        if year in best.index:\n",
    "            result[reg] = {n: r for n, r in best.loc[year].values}\n",
    "    return result\n",
    "\n",
    "\n",
    "def n_best_all_yr(year, n=3):\n",
    "    result = {}\n",
    "    for reg in ratios.index.get_level_values('region').unique():\n",
    "        best = n_best_reg(n, region=reg)\n",
    "        if year in best.index:\n",
    "            for name, res in best.loc[year].values:\n",
    "                result.setdefault(name, dict())[reg] = res\n",
    "    return result\n",
    "\n",
    "\n",
    "def n_best_reg(n, region='Hlavní město Praha'):\n",
    "    per_yr = ratios.loc[region]\n",
    "    return per_yr.apply(lambda r: n_best_yr(n, r), axis=1)\n",
    "\n",
    "\n",
    "def n_best_yr(n, row):\n",
    "    top_series = row.sort_values(ascending=False).head(n)\n",
    "    return pd.Series(list(top_series.items()), range(1, n + 1))"
   ]
  },
  {
   "cell_type": "markdown",
   "metadata": {},
   "source": [
    "Funkce k vykreslení grafu srovnávajícího nejlepších *n* stran v daných krajích za daný rok."
   ]
  },
  {
   "cell_type": "code",
   "execution_count": 12,
   "metadata": {
    "code_folding": []
   },
   "outputs": [],
   "source": [
    "def plot_best(year, n=3):\n",
    "    top = n_best_all_regs(year, n=n)\n",
    "    fig = tools.make_subplots(\n",
    "        rows=4,\n",
    "        cols=4,\n",
    "        shared_yaxes=True,\n",
    "        subplot_titles=[\n",
    "            n for n, _ in sorted(top.items(), key=lambda tu: tu[0])\n",
    "        ])\n",
    "\n",
    "    j = 0\n",
    "    for name, parties in sorted(top.items(), key=lambda tu: tu[0]):\n",
    "        tr = go.Bar(\n",
    "            x=list(parties.keys()),\n",
    "            y=list(parties.values()),\n",
    "            name=name,\n",
    "            marker=dict(color=[\n",
    "                colors.get(k, 'rgb(247,247,247)') for k in parties.keys()\n",
    "            ]),\n",
    "            hoverinfo='y')\n",
    "        fig.append_trace(tr, math.ceil((j + 1) / 4), j % 4 + 1)\n",
    "        j += 1\n",
    "\n",
    "    fig['layout'].update(\n",
    "        height=900,\n",
    "        width=900,\n",
    "        title=f'Nejlepších 5 stran v jednotlivých krajích v roce {year}',\n",
    "        showlegend=False)\n",
    "\n",
    "    for i in range(1, 5):\n",
    "        key = 'yaxis' + str(i)\n",
    "        if key in fig['layout']:\n",
    "            fig['layout'][key].update(ticksuffix='%', range=[0, 41])\n",
    "\n",
    "    for i in range(1, 17):\n",
    "        key = 'xaxis' + str(i)\n",
    "        if key in fig['layout']:\n",
    "            fig['layout'][key].update(tickangle=45)\n",
    "\n",
    "    return fig"
   ]
  },
  {
   "cell_type": "code",
   "execution_count": 13,
   "metadata": {
    "code_folding": []
   },
   "outputs": [],
   "source": [
    "colors = {\n",
    "    'ANO': 'rgb(28,20,94)',\n",
    "    'KDU': 'rgb(254,223,83)',\n",
    "    'KDU+USDEU': 'rgb(254,223,83)',\n",
    "    'KSČM': 'rgb(139,5,11)',\n",
    "    '(STA)N': 'rgb(146,182,58)',\n",
    "    'ODA': 'rgb(44,154,107)',\n",
    "    'ODS': 'rgb(46,176,228)',\n",
    "    'Piráti': 'rgb(150,206,204)',\n",
    "    'REPUBLIKÁNI': 'rgb(195,218,242)',\n",
    "    'SPD': 'rgb(167,103,13)',\n",
    "    'SZ': 'rgb(44,154,107)',\n",
    "    'TOP': 'rgb(102,96,167)',\n",
    "    'US': 'rgb(161,103,165)',\n",
    "    'VV': 'rgb(33,145,178)',\n",
    "    'ČSSD': 'rgb(239,149,72)'\n",
    "}"
   ]
  },
  {
   "cell_type": "code",
   "execution_count": 14,
   "metadata": {
    "scrolled": true
   },
   "outputs": [
    {
     "name": "stdout",
     "output_type": "stream",
     "text": [
      "This is the format of your plot grid:\n[ (1,1) x1,y1 ]   [ (1,2) x2,y1 ]   [ (1,3) x3,y1 ]   [ (1,4) x4,y1 ] \n[ (2,1) x5,y2 ]   [ (2,2) x6,y2 ]   [ (2,3) x7,y2 ]   [ (2,4) x8,y2 ] \n[ (3,1) x9,y3 ]   [ (3,2) x10,y3 ]  [ (3,3) x11,y3 ]  [ (3,4) x12,y3 ]\n[ (4,1) x13,y4 ]  [ (4,2) x14,y4 ]  [ (4,3) x15,y4 ]  [ (4,4) x16,y4 ]\n\n"
     ]
    },
    {
     "data": {
      "text/plain": [
       "'file:///Users/Eugen/Documents/Programování/python/volby/temp-plot.html'"
      ]
     },
     "execution_count": 14,
     "metadata": {},
     "output_type": "execute_result"
    }
   ],
   "source": [
    "offline.plot(plot_best(2010, n=5))"
   ]
  },
  {
   "cell_type": "markdown",
   "metadata": {},
   "source": [
    "# Zobrazení výsledku v krajích s mandáty"
   ]
  },
  {
   "cell_type": "code",
   "execution_count": 15,
   "metadata": {
    "scrolled": true
   },
   "outputs": [
    {
     "data": {
      "text/html": [
       "<div>\n",
       "<style scoped>\n",
       "    .dataframe tbody tr th:only-of-type {\n",
       "        vertical-align: middle;\n",
       "    }\n",
       "\n",
       "    .dataframe tbody tr th {\n",
       "        vertical-align: top;\n",
       "    }\n",
       "\n",
       "    .dataframe thead th {\n",
       "        text-align: right;\n",
       "    }\n",
       "</style>\n",
       "<table border=\"1\" class=\"dataframe\">\n",
       "  <thead>\n",
       "    <tr style=\"text-align: right;\">\n",
       "      <th></th>\n",
       "      <th></th>\n",
       "      <th>KSČM</th>\n",
       "      <th>ČSSD</th>\n",
       "      <th>VV</th>\n",
       "      <th>(STA)N</th>\n",
       "      <th>KDU</th>\n",
       "      <th>SZ</th>\n",
       "      <th>ODS</th>\n",
       "      <th>Piráti</th>\n",
       "      <th>Úsvit</th>\n",
       "      <th>ANO</th>\n",
       "      <th>TOP</th>\n",
       "      <th>SPD</th>\n",
       "    </tr>\n",
       "    <tr>\n",
       "      <th>year</th>\n",
       "      <th>region</th>\n",
       "      <th></th>\n",
       "      <th></th>\n",
       "      <th></th>\n",
       "      <th></th>\n",
       "      <th></th>\n",
       "      <th></th>\n",
       "      <th></th>\n",
       "      <th></th>\n",
       "      <th></th>\n",
       "      <th></th>\n",
       "      <th></th>\n",
       "      <th></th>\n",
       "    </tr>\n",
       "  </thead>\n",
       "  <tbody>\n",
       "    <tr>\n",
       "      <th rowspan=\"5\" valign=\"top\">2006</th>\n",
       "      <th>Hlavní město Praha</th>\n",
       "      <td>2</td>\n",
       "      <td>6</td>\n",
       "      <td>NaN</td>\n",
       "      <td>NaN</td>\n",
       "      <td>1.0</td>\n",
       "      <td>2.0</td>\n",
       "      <td>14</td>\n",
       "      <td>NaN</td>\n",
       "      <td>NaN</td>\n",
       "      <td>NaN</td>\n",
       "      <td>NaN</td>\n",
       "      <td>NaN</td>\n",
       "    </tr>\n",
       "    <tr>\n",
       "      <th>Středočeský kraj</th>\n",
       "      <td>3</td>\n",
       "      <td>8</td>\n",
       "      <td>NaN</td>\n",
       "      <td>NaN</td>\n",
       "      <td>1.0</td>\n",
       "      <td>1.0</td>\n",
       "      <td>10</td>\n",
       "      <td>NaN</td>\n",
       "      <td>NaN</td>\n",
       "      <td>NaN</td>\n",
       "      <td>NaN</td>\n",
       "      <td>NaN</td>\n",
       "    </tr>\n",
       "    <tr>\n",
       "      <th>Jihočeský kraj</th>\n",
       "      <td>2</td>\n",
       "      <td>4</td>\n",
       "      <td>NaN</td>\n",
       "      <td>NaN</td>\n",
       "      <td>1.0</td>\n",
       "      <td>0.0</td>\n",
       "      <td>6</td>\n",
       "      <td>NaN</td>\n",
       "      <td>NaN</td>\n",
       "      <td>NaN</td>\n",
       "      <td>NaN</td>\n",
       "      <td>NaN</td>\n",
       "    </tr>\n",
       "    <tr>\n",
       "      <th>Plzeňský kraj</th>\n",
       "      <td>2</td>\n",
       "      <td>4</td>\n",
       "      <td>NaN</td>\n",
       "      <td>NaN</td>\n",
       "      <td>0.0</td>\n",
       "      <td>0.0</td>\n",
       "      <td>5</td>\n",
       "      <td>NaN</td>\n",
       "      <td>NaN</td>\n",
       "      <td>NaN</td>\n",
       "      <td>NaN</td>\n",
       "      <td>NaN</td>\n",
       "    </tr>\n",
       "    <tr>\n",
       "      <th>Karlovarský kraj</th>\n",
       "      <td>1</td>\n",
       "      <td>2</td>\n",
       "      <td>NaN</td>\n",
       "      <td>NaN</td>\n",
       "      <td>0.0</td>\n",
       "      <td>0.0</td>\n",
       "      <td>2</td>\n",
       "      <td>NaN</td>\n",
       "      <td>NaN</td>\n",
       "      <td>NaN</td>\n",
       "      <td>NaN</td>\n",
       "      <td>NaN</td>\n",
       "    </tr>\n",
       "  </tbody>\n",
       "</table>\n",
       "</div>"
      ],
      "text/plain": [
       "<div>\n",
       "<style scoped>\n",
       "    .dataframe tbody tr th:only-of-type {\n",
       "        vertical-align: middle;\n",
       "    }\n",
       "\n",
       "    .dataframe tbody tr th {\n",
       "        vertical-align: top;\n",
       "    }\n",
       "\n",
       "    .dataframe thead th {\n",
       "        text-align: right;\n",
       "    }\n",
       "</style>\n",
       "<table border=\"1\" class=\"dataframe\">\n",
       "  <thead>\n",
       "    <tr style=\"text-align: right;\">\n",
       "      <th></th>\n",
       "      <th></th>\n",
       "      <th>KSČM</th>\n",
       "      <th>ČSSD</th>\n",
       "      <th>VV</th>\n",
       "      <th>(STA)N</th>\n",
       "      <th>KDU</th>\n",
       "      <th>SZ</th>\n",
       "      <th>ODS</th>\n",
       "      <th>Piráti</th>\n",
       "      <th>Úsvit</th>\n",
       "      <th>ANO</th>\n",
       "      <th>TOP</th>\n",
       "      <th>SPD</th>\n",
       "    </tr>\n",
       "    <tr>\n",
       "      <th>year</th>\n",
       "      <th>region</th>\n",
       "      <th></th>\n",
       "      <th></th>\n",
       "      <th></th>\n",
       "      <th></th>\n",
       "      <th></th>\n",
       "      <th></th>\n",
       "      <th></th>\n",
       "      <th></th>\n",
       "      <th></th>\n",
       "      <th></th>\n",
       "      <th></th>\n",
       "      <th></th>\n",
       "    </tr>\n",
       "  </thead>\n",
       "  <tbody>\n",
       "    <tr>\n",
       "      <th rowspan=\"5\" valign=\"top\">2006</th>\n",
       "      <th>Hlavní město Praha</th>\n",
       "      <td>2</td>\n",
       "      <td>6</td>\n",
       "      <td>NaN</td>\n",
       "      <td>NaN</td>\n",
       "      <td>1.0</td>\n",
       "      <td>2.0</td>\n",
       "      <td>14</td>\n",
       "      <td>NaN</td>\n",
       "      <td>NaN</td>\n",
       "      <td>NaN</td>\n",
       "      <td>NaN</td>\n",
       "      <td>NaN</td>\n",
       "    </tr>\n",
       "    <tr>\n",
       "      <th>Středočeský kraj</th>\n",
       "      <td>3</td>\n",
       "      <td>8</td>\n",
       "      <td>NaN</td>\n",
       "      <td>NaN</td>\n",
       "      <td>1.0</td>\n",
       "      <td>1.0</td>\n",
       "      <td>10</td>\n",
       "      <td>NaN</td>\n",
       "      <td>NaN</td>\n",
       "      <td>NaN</td>\n",
       "      <td>NaN</td>\n",
       "      <td>NaN</td>\n",
       "    </tr>\n",
       "    <tr>\n",
       "      <th>Jihočeský kraj</th>\n",
       "      <td>2</td>\n",
       "      <td>4</td>\n",
       "      <td>NaN</td>\n",
       "      <td>NaN</td>\n",
       "      <td>1.0</td>\n",
       "      <td>0.0</td>\n",
       "      <td>6</td>\n",
       "      <td>NaN</td>\n",
       "      <td>NaN</td>\n",
       "      <td>NaN</td>\n",
       "      <td>NaN</td>\n",
       "      <td>NaN</td>\n",
       "    </tr>\n",
       "    <tr>\n",
       "      <th>Plzeňský kraj</th>\n",
       "      <td>2</td>\n",
       "      <td>4</td>\n",
       "      <td>NaN</td>\n",
       "      <td>NaN</td>\n",
       "      <td>0.0</td>\n",
       "      <td>0.0</td>\n",
       "      <td>5</td>\n",
       "      <td>NaN</td>\n",
       "      <td>NaN</td>\n",
       "      <td>NaN</td>\n",
       "      <td>NaN</td>\n",
       "      <td>NaN</td>\n",
       "    </tr>\n",
       "    <tr>\n",
       "      <th>Karlovarský kraj</th>\n",
       "      <td>1</td>\n",
       "      <td>2</td>\n",
       "      <td>NaN</td>\n",
       "      <td>NaN</td>\n",
       "      <td>0.0</td>\n",
       "      <td>0.0</td>\n",
       "      <td>2</td>\n",
       "      <td>NaN</td>\n",
       "      <td>NaN</td>\n",
       "      <td>NaN</td>\n",
       "      <td>NaN</td>\n",
       "      <td>NaN</td>\n",
       "    </tr>\n",
       "  </tbody>\n",
       "</table>\n",
       "</div>"
      ]
     },
     "execution_count": 15,
     "metadata": {},
     "output_type": "execute_result"
    }
   ],
   "source": [
    "REGIONS = [\n",
    "    \"Hlavní město Praha\", \"Středočeský kraj\", \"Jihočeský kraj\",\n",
    "    \"Plzeňský kraj\", \"Karlovarský kraj\", \"Ústecký kraj\", \"Liberecký kraj\",\n",
    "    \"Královéhradecký kraj\", \"Pardubický kraj\", \"Kraj Vysočina\",\n",
    "    \"Jihomoravský kraj\", \"Olomoucký kraj\", \"Zlínský kraj\",\n",
    "    \"Moravskoslezský kraj\"\n",
    "]\n",
    "\n",
    "mandates = pd.read_csv(\"mandaty.csv\", index_col=['year', 'region'])\n",
    "mandates.head()"
   ]
  },
  {
   "cell_type": "code",
   "execution_count": 16,
   "metadata": {},
   "outputs": [],
   "source": [
    "def parties_with_mandates(mds, region):\n",
    "    return {p:int(res) for p, res in mds.loc[region].items() if not pd.isna(res)}"
   ]
  },
  {
   "cell_type": "code",
   "execution_count": 17,
   "metadata": {
    "code_folding": []
   },
   "outputs": [],
   "source": [
    "def plot_best2(year, n=3):\n",
    "    md_year = mandates.loc[year]\n",
    "    mds = {reg: parties_with_mandates(md_year, reg) for reg in REGIONS}\n",
    "    top = n_best_all_regs(year, n=n)\n",
    "    fig = tools.make_subplots(\n",
    "        rows=4,\n",
    "        cols=4,\n",
    "        shared_yaxes=True,\n",
    "        subplot_titles=[\n",
    "            n for n, _ in sorted(top.items(), key=lambda tu: tu[0])\n",
    "        ])\n",
    "\n",
    "    j = 0\n",
    "    for name, parties in sorted(n_best_all_regs(year, n=14).items(), key=lambda tu: tu[0]):\n",
    "        prt_sorted = sorted(parties.items(), key=lambda tu: tu[1], reverse=True)\n",
    "        xy = sorted(mds[name].items(), key=lambda tu: operator.indexOf([t[0] for t in prt_sorted], tu[0]))\n",
    "        tr = go.Bar(\n",
    "            x=[k for k, _ in xy],\n",
    "            y=[v for _, v in xy],\n",
    "            name=name,\n",
    "            marker=dict(color=[\n",
    "                colors.get(k, 'rgb(247,247,247)') for k in [k for k, _ in xy]\n",
    "            ]),\n",
    "            hoverinfo='y')\n",
    "        fig.append_trace(tr, math.ceil((j + 1) / 4), j % 4 + 1)\n",
    "        j += 1\n",
    "\n",
    "    fig['layout'].update(\n",
    "        height=900,\n",
    "        width=900,\n",
    "        title=f'Rozdělení mandátů v jednotlivých krajích v roce {year}',\n",
    "        showlegend=False)\n",
    "\n",
    "    for i in range(1, 5):\n",
    "        key = 'yaxis' + str(i)\n",
    "        if key in fig['layout']:\n",
    "            fig['layout'][key].update(range=[0, 11], dtick=2)\n",
    "    \n",
    "    for i in range(1, 17):\n",
    "        key = 'xaxis' + str(i)\n",
    "        if key in fig['layout']:\n",
    "            fig['layout'][key].update(tickangle=45)\n",
    "\n",
    "    return fig"
   ]
  },
  {
   "cell_type": "code",
   "execution_count": 18,
   "metadata": {},
   "outputs": [
    {
     "name": "stdout",
     "output_type": "stream",
     "text": [
      "This is the format of your plot grid:\n[ (1,1) x1,y1 ]   [ (1,2) x2,y1 ]   [ (1,3) x3,y1 ]   [ (1,4) x4,y1 ] \n[ (2,1) x5,y2 ]   [ (2,2) x6,y2 ]   [ (2,3) x7,y2 ]   [ (2,4) x8,y2 ] \n[ (3,1) x9,y3 ]   [ (3,2) x10,y3 ]  [ (3,3) x11,y3 ]  [ (3,4) x12,y3 ]\n[ (4,1) x13,y4 ]  [ (4,2) x14,y4 ]  [ (4,3) x15,y4 ]  [ (4,4) x16,y4 ]\n\n"
     ]
    },
    {
     "data": {
      "text/plain": [
       "'file:///Users/Eugen/Documents/Programování/python/volby/temp-plot.html'"
      ]
     },
     "execution_count": 18,
     "metadata": {},
     "output_type": "execute_result"
    }
   ],
   "source": [
    "offline.plot(plot_best2(2017))"
   ]
  },
  {
   "cell_type": "code",
   "execution_count": 19,
   "metadata": {},
   "outputs": [],
   "source": [
    "def plot_best3(year, n=3, rel=True):\n",
    "    top = n_best_all_regs(year, n=n) if rel else n_best_all_regs_abs(year, n=n)\n",
    "    fig = tools.make_subplots(\n",
    "        rows=4,\n",
    "        cols=4,\n",
    "        shared_yaxes=True,\n",
    "        subplot_titles=[\n",
    "            n for n, _ in sorted(top.items(), key=lambda tu: tu[0])\n",
    "        ])\n",
    "\n",
    "    j = 0\n",
    "    for name, parties in sorted(top.items(), key=lambda tu: tu[0]):\n",
    "        tr = go.Bar(\n",
    "            x=list(parties.keys()),\n",
    "            y=list(parties.values()),\n",
    "            name=name,\n",
    "            marker=dict(color=[\n",
    "                colors.get(k, 'rgb(247,247,247)') for k in parties.keys()\n",
    "            ]),\n",
    "            hoverinfo='y')\n",
    "        fig.append_trace(tr, math.ceil((j + 1) / 4), j % 4 + 1)\n",
    "        j += 1\n",
    "\n",
    "    fig['layout'].update(\n",
    "        height=1400,\n",
    "        width=1400,\n",
    "        title=f'Rozdělení mandátů v jednotlivých krajích v roce {year}',\n",
    "        showlegend=False)\n",
    "\n",
    "    md_year = mandates.loc[year]\n",
    "    mds = {reg: parties_with_mandates(md_year, reg) for reg in REGIONS}\n",
    "\n",
    "    j = 0\n",
    "    for name, parties in sorted(\n",
    "            n_best_all_regs(year, n=14).items(), key=lambda tu: tu[0]):\n",
    "        prt_sorted = sorted(\n",
    "            parties.items(), key=lambda tu: tu[1], reverse=True)\n",
    "        xy = sorted(\n",
    "            mds[name].items(),\n",
    "            key=lambda tu: operator.indexOf([t[0] for t in prt_sorted], tu[0]))\n",
    "        tr = go.Scatter(\n",
    "            x=[k for k, _ in xy],\n",
    "            y=[v for _, v in xy],\n",
    "            #width = [0.4 for _ in xy],\n",
    "            name=name,\n",
    "            marker=dict(\n",
    "                color='rgb(255, 102, 153)',\n",
    "                size=10,\n",
    "                line=dict(width=2, color='black')),\n",
    "            hoverinfo='y',\n",
    "            line=dict(color='black', width=3))\n",
    "        fig.append_trace(tr, math.ceil((j + 1) / 4), j % 4 + 1)\n",
    "        j += 1\n",
    "\n",
    "    for data in fig['data'][len(top.items()):]:\n",
    "        number = int(data['yaxis'][1:])\n",
    "        data.update(yaxis=f\"y{number+4}\")\n",
    "\n",
    "    for i in range(1, 5):\n",
    "        key = 'yaxis' + str(i)\n",
    "        if key in fig['layout']:\n",
    "            fig['layout'][key].update(\n",
    "                ticksuffix='%' if rel else '',\n",
    "                range=[0, 41 if rel else 220000],\n",
    "                showgrid=False)\n",
    "\n",
    "    for i in range(1, 17):\n",
    "        key = 'xaxis' + str(i)\n",
    "        if key in fig['layout']:\n",
    "            fig['layout'][key].update(tickangle=45)\n",
    "            fig['layout'][f\"yaxis{math.ceil(i / 4) + 4}\"] = dict(\n",
    "                range=[0, 10.5],\n",
    "                overlaying=f\"y{math.ceil(i / 4)}\",\n",
    "                anchor=f\"x{i}\" if i < 13 else \"x14\",\n",
    "                side='right',\n",
    "                showgrid=True,\n",
    "                dtick=1,\n",
    "                title='Počet mandátů',\n",
    "            )\n",
    "\n",
    "    return fig"
   ]
  },
  {
   "cell_type": "code",
   "execution_count": 20,
   "metadata": {},
   "outputs": [
    {
     "name": "stdout",
     "output_type": "stream",
     "text": [
      "This is the format of your plot grid:\n[ (1,1) x1,y1 ]   [ (1,2) x2,y1 ]   [ (1,3) x3,y1 ]   [ (1,4) x4,y1 ] \n[ (2,1) x5,y2 ]   [ (2,2) x6,y2 ]   [ (2,3) x7,y2 ]   [ (2,4) x8,y2 ] \n[ (3,1) x9,y3 ]   [ (3,2) x10,y3 ]  [ (3,3) x11,y3 ]  [ (3,4) x12,y3 ]\n[ (4,1) x13,y4 ]  [ (4,2) x14,y4 ]  [ (4,3) x15,y4 ]  [ (4,4) x16,y4 ]\n\n"
     ]
    },
    {
     "data": {
      "text/plain": [
       "'file:///Users/Eugen/Documents/Programování/python/volby/temp-plot.html'"
      ]
     },
     "execution_count": 20,
     "metadata": {},
     "output_type": "execute_result"
    }
   ],
   "source": [
    "offline.plot(plot_best3(2017, 9, rel=False))"
   ]
  },
  {
   "cell_type": "code",
   "execution_count": 21,
   "metadata": {},
   "outputs": [
    {
     "ename": "IndentationError",
     "evalue": "unexpected indent (<ipython-input-21-acd92a6ff9a8>, line 11)",
     "traceback": [
      "\u001b[0;36m  File \u001b[0;32m\"<ipython-input-21-acd92a6ff9a8>\"\u001b[0;36m, line \u001b[0;32m11\u001b[0m\n\u001b[0;31m    for data in fig['data'][len(top.items()):]:\u001b[0m\n\u001b[0m    ^\u001b[0m\n\u001b[0;31mIndentationError\u001b[0m\u001b[0;31m:\u001b[0m unexpected indent\n"
     ],
     "output_type": "error"
    }
   ],
   "source": [
    "fig['layout'][f\"yaxis{math.ceil(i / 4) + 4}\"] = dict(range = [0, 11], \n",
    "                          overlaying = f\"y{math.ceil(i / 4)}\", \n",
    "                          anchor = f\"x{i}\", \n",
    "                          side = 'right', \n",
    "                          showgrid = False, \n",
    "                          title = 'Počet mandátů',\n",
    "                         )\n",
    "\n",
    "yaxis=f\"{(j + 1) / 4 + 4}\"\n",
    "\n",
    "    for data in fig['data'][len(top.items()):]:\n",
    "        number = int(data['yaxis'][1:])\n",
    "        data.update(yaxis=f\"y{number+4}\")"
   ]
  },
  {
   "cell_type": "code",
   "execution_count": 22,
   "metadata": {},
   "outputs": [],
   "source": []
  }
 ],
 "metadata": {
  "kernelspec": {
   "display_name": "Python 3",
   "language": "python",
   "name": "python3"
  },
  "language_info": {
   "codemirror_mode": {
    "name": "ipython",
    "version": 3
   },
   "file_extension": ".py",
   "mimetype": "text/x-python",
   "name": "python",
   "nbconvert_exporter": "python",
   "pygments_lexer": "ipython3",
   "version": "3.6.5"
  }
 },
 "nbformat": 4,
 "nbformat_minor": 2
}
