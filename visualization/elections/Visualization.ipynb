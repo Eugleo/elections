{
 "cells": [
  {
   "cell_type": "code",
   "execution_count": 1,
   "metadata": {
    "collapsed": true
   },
   "outputs": [],
   "source": [
    "import csv\n",
    "import pandas as pd\n",
    "\n",
    "import plotly.offline as offline\n",
    "import plotly.graph_objs as go\n",
    "\n",
    "from plotly import tools\n",
    "\n",
    "from typing import Dict, Any"
   ]
  },
  {
   "cell_type": "code",
   "execution_count": 15,
   "metadata": {},
   "outputs": [],
   "source": [
    "def dfs_from_year(year):\n",
    "    parties = pd.read_csv(f\"~/data/parties_{year}.csv\", \n",
    "                          low_memory=False, \n",
    "                          index_col=[\"region\", \"town\", \"district_no\"])\n",
    "    districts = pd.read_csv(f\"~/data/districts_{year}.csv\", \n",
    "                            low_memory=False,\n",
    "                            index_col=[\"region\", \"town\", \"district_no\"])\n",
    "    return parties, districts\n",
    "\n",
    "mandates = pd.read_csv(\"~/data/mandaty.csv\", index_col=[\"year\", \"region\"]) "
   ]
  },
  {
   "cell_type": "code",
   "execution_count": 16,
   "metadata": {
    "collapsed": false
   },
   "outputs": [],
   "source": [
    "def who_would_win(year):\n",
    "    parties, districts = dfs_from_year(year)\n",
    "    \n",
    "    result = {}\n",
    "    for _, group in parties.groupby([\"region\", \"town\", \"district_no\"]):\n",
    "        sorted = group.sort_values(\"n_votes\", ascending=False)\n",
    "        top_row = sorted.iloc[0]\n",
    "        party_name = top_row[\"party_name\"]\n",
    "        val = result.setdefault(party_name, 0)\n",
    "        result[party_name] = val + 1\n",
    "    return result"
   ]
  },
  {
   "cell_type": "code",
   "execution_count": 21,
   "metadata": {},
   "outputs": [],
   "source": [
    "def plot(dic: Dict[str, int], year: int):\n",
    "    mds = mandates.groupby([\"year\"]).get_group(year)\n",
    "    dic2 = {}\n",
    "    for party in dic.keys():\n",
    "        dic2[party] = mds[party].sum() if party in mds else 0\n",
    "    \n",
    "    results = sorted([(k, v) for k, v in dic.items()], key=lambda tu: tu[1])\n",
    "    trace1 = go.Bar(\n",
    "            name = \"okrsků\",\n",
    "            x = [k for k, _ in results],\n",
    "            y = [v for _, v in results] \n",
    "        )\n",
    "    \n",
    "    trace2 = go.Scatter(\n",
    "            name = \"mandátů\",\n",
    "            x = [k for k, _ in results],\n",
    "            y = [dic2[k] for k,_ in results],\n",
    "            yaxis='y2'\n",
    "        )\n",
    "    \n",
    "    data = [trace1, trace2]\n",
    "    \n",
    "    fig = dict(\n",
    "        data = data,\n",
    "        layout = dict(\n",
    "            title = f\"Seřazení stran podle výsledku v jedntolivých okrscích v roce {year}\",\n",
    "            yaxis=dict(\n",
    "                title='Počet vyhraných okrsků',\n",
    "            ),\n",
    "            yaxis2=dict(\n",
    "                title='Počet získaných mandátů',\n",
    "                overlaying='y',\n",
    "                side='right',\n",
    "                showgrid=False,\n",
    "                range=[0,90]\n",
    "            )\n",
    "        ),\n",
    "    )\n",
    "    \n",
    "    offline.plot(fig)"
   ]
  },
  {
   "cell_type": "code",
   "execution_count": 24,
   "metadata": {
    "collapsed": false
   },
   "outputs": [],
   "source": [
    "plot(parties_2006, year=2006)"
   ]
  },
  {
   "cell_type": "code",
   "execution_count": 6,
   "metadata": {},
   "outputs": [],
   "source": [
    "parties_2017 = who_would_win(2017)\n"
   ]
  },
  {
   "cell_type": "code",
   "execution_count": 7,
   "metadata": {},
   "outputs": [],
   "source": [
    "parties_2013 = who_would_win(2013)"
   ]
  },
  {
   "cell_type": "code",
   "execution_count": 10,
   "metadata": {},
   "outputs": [],
   "source": [
    "parties_2010 = who_would_win(2010)"
   ]
  },
  {
   "cell_type": "code",
   "execution_count": 22,
   "metadata": {},
   "outputs": [],
   "source": [
    "parties_2006 = who_would_win(2006)"
   ]
  },
  {
   "cell_type": "code",
   "execution_count": 9,
   "metadata": {},
   "outputs": [],
   "source": []
  }
 ],
 "metadata": {
  "kernelspec": {
   "display_name": "Python 2",
   "language": "python",
   "name": "python2"
  },
  "language_info": {
   "codemirror_mode": {
    "name": "ipython",
    "version": 2
   },
   "file_extension": ".py",
   "mimetype": "text/x-python",
   "name": "python",
   "nbconvert_exporter": "python",
   "pygments_lexer": "ipython2",
   "version": "2.7.6"
  }
 },
 "nbformat": 4,
 "nbformat_minor": 0
}
